{
  "cells": [
    {
      "cell_type": "markdown",
      "metadata": {
        "id": "view-in-github",
        "colab_type": "text"
      },
      "source": [
        "<a href=\"https://colab.research.google.com/github/rileykc98/425-Project/blob/main/project.ipynb\" target=\"_parent\"><img src=\"https://colab.research.google.com/assets/colab-badge.svg\" alt=\"Open In Colab\"/></a>"
      ]
    },
    {
      "cell_type": "markdown",
      "metadata": {
        "id": "nlun5t_GO2Xi"
      },
      "source": [
        "# COMP425/6341 Computer Vision - Project skeleton\n",
        "\n",
        "## 0 Import KMNIST dataset (1 pts)"
      ]
    },
    {
      "cell_type": "code",
      "execution_count": 1,
      "metadata": {
        "id": "a4G0UJ4EcIfX"
      },
      "outputs": [],
      "source": [
        "# import required libraries, DO NOT MODIFY!\n",
        "import torch\n",
        "import torchvision\n",
        "from torchvision.datasets import ImageFolder,KMNIST\n",
        "from torch.utils.data import Dataset, random_split, DataLoader\n",
        "import torchvision.transforms as transforms\n",
        "import matplotlib.pyplot as plt\n",
        "from torchvision.utils import make_grid\n",
        "from torch.optim import Adam\n",
        "import torch.nn.functional as F\n",
        "from torch import nn\n",
        "import numpy as np\n"
      ]
    },
    {
      "cell_type": "code",
      "execution_count": 2,
      "metadata": {
        "id": "5ADRTRFNcIfY"
      },
      "outputs": [],
      "source": [
        "### set random seed to your Student ID\n",
        "random_seed = 40048739\n",
        "torch.manual_seed(random_seed);"
      ]
    },
    {
      "cell_type": "markdown",
      "metadata": {
        "id": "VdFR_tBZKAiR"
      },
      "source": [
        "Run the cells below to initialize the train and test loaders for KMNIST and visualize one of its samples.\n",
        "\n",
        "**Experiments:** <br>\n",
        "1. Change `batch_size` based on the device you are using.<br>\n",
        "2. Try more complicated transformations on train set.<br>\n",
        "3. Visualize different samples from the dataset."
      ]
    },
    {
      "cell_type": "code",
      "execution_count": 3,
      "metadata": {
        "id": "y9UQampoKAiS"
      },
      "outputs": [],
      "source": [
        "# datasets hyper parameters\n",
        "batch_size = 20\n",
        "train_transform = transforms.Compose([transforms.ToTensor()])\n",
        "test_transform = transforms.Compose([transforms.ToTensor()])\n",
        "\n",
        "# Initialize kmnist train and test datasets\n",
        "# These two lines will download the datasets in a folder called KMNIST.\n",
        "# The folder will be written in the same directory as this script.\n",
        "# The download will occur once. Subsequent executions will not re-download the datasets if they exist.\n",
        "kmnist_train_set = KMNIST(root='.',\n",
        "                         train=True,\n",
        "                         download=True,\n",
        "                         transform=train_transform)\n",
        "kmnist_test_set = KMNIST(root='.',\n",
        "                         train=False,\n",
        "                         download=True,\n",
        "                         transform=test_transform)\n",
        "\n",
        "# Initialize kmnist train and test data loaders. \n",
        "kmnist_train_loader = torch.utils.data.DataLoader(kmnist_train_set,\n",
        "                                           batch_size=batch_size,\n",
        "                                           shuffle=True,\n",
        "                                           drop_last=True)\n",
        "kmnist_test_loader = torch.utils.data.DataLoader(kmnist_test_set,\n",
        "                                          batch_size=batch_size,\n",
        "                                          shuffle=False,\n",
        "                                          drop_last=True)"
      ]
    },
    {
      "cell_type": "code",
      "execution_count": 4,
      "metadata": {
        "id": "7NR2HHDGKAiS",
        "scrolled": true,
        "colab": {
          "base_uri": "https://localhost:8080/",
          "height": 283
        },
        "outputId": "2d7f930a-ba34-4dfd-95fc-450e4421f389"
      },
      "outputs": [
        {
          "output_type": "stream",
          "name": "stdout",
          "text": [
            "label: 5\n"
          ]
        },
        {
          "output_type": "display_data",
          "data": {
            "text/plain": [
              "<Figure size 432x288 with 1 Axes>"
            ],
            "image/png": "[encoded data removed]"
          },
          "metadata": {
            "needs_background": "light"
          }
        }
      ],
      "source": [
        "plt.imshow(kmnist_train_set[10][0][0],cmap=\"gray_r\")\n",
        "print(\"label:\", kmnist_train_set[10][1])"
      ]
    },
    {
      "cell_type": "markdown",
      "metadata": {
        "id": "3Q78iW7WKAiT"
      },
      "source": [
        "## 1 Feed-forward Neural network\n",
        "In this section, you will implement a simple feed-forward network from scratch. Follow the instructions/comments in each subsection to complete the general structure of the network."
      ]
    },
    {
      "cell_type": "markdown",
      "metadata": {
        "id": "jJhzKiUyKAiT"
      },
      "source": [
        "### 1.1 Activation Functions (4 + 4 + 4 pts)\n",
        "Implement [Sigmoid](https://en.wikipedia.org/wiki/Sigmoid_function), [ReLU](https://en.wikipedia.org/wiki/Rectifier_(neural_networks)) and [Identity](https://en.wikipedia.org/wiki/Identity_function) functions. This functions will later be used in network architecture."
      ]
    },
    {
      "cell_type": "code",
      "execution_count": 5,
      "metadata": {
        "id": "NiIHSa5fKAiU"
      },
      "outputs": [],
      "source": [
        "def Sigmoid(x):\n",
        "    \"\"\" Identity activation function\n",
        "    Args:\n",
        "        x (torch.tensor)\n",
        "    Return:\n",
        "        torch.tensor: a tensor of shape of x\n",
        "    \"\"\"\n",
        "    return torch.pow((torch.exp(-x) + 1), exponent = -1)\n",
        "    \n",
        "def ReLU(x):\n",
        "    \"\"\" ReLU activation function\n",
        "    Args:\n",
        "        x (torch.tensor)\n",
        "    Return:\n",
        "        torch.tensor: a tensor of shape of x\n",
        "    \"\"\"\n",
        "    zeros = torch.clone(x)\n",
        "    zeros[zeros != 0] = 0\n",
        "    return torch.maximum(x, zeros)\n",
        "\n",
        "def Identity(x):\n",
        "    \"\"\" Identity activation function\n",
        "    Args:\n",
        "        x (torch.tensor)\n",
        "    Return:\n",
        "        torch.tensor: a tensor of shape of x\n",
        "    \"\"\"\n",
        "    return x\n",
        "\n",
        "def get_activation(str): \n",
        "  if str == 'sig':\n",
        "    return Sigmoid\n",
        "  elif str == 'rel':\n",
        "    return ReLU\n",
        "  else:\n",
        "    return Identity"
      ]
    },
    {
      "cell_type": "markdown",
      "metadata": {
        "id": "DnLM6u8aKAiU"
      },
      "source": [
        "### 1.2 Cross Entropy Loss (7.5 + 7.5 pts)\n",
        "Implement the Softmax function and Cross Entropy loss."
      ]
    },
    {
      "cell_type": "code",
      "execution_count": 6,
      "metadata": {
        "id": "Mv24yWSyKAiU"
      },
      "outputs": [],
      "source": [
        "def Softmax(x,dim):\n",
        "    \"\"\" Softmax function\n",
        "    Args:torch.log(\n",
        "        x (torch.tensor): inputs tensor of size (B,F)\n",
        "        dim (int): A dimension along which Softmax will be computed\n",
        "    Return:\n",
        "        torch.tensor: a tensor of shape of x\n",
        "    \"\"\"\n",
        "    return torch.exp(x)/torch.sum(torch.exp(x),axis=dim)\n",
        "\n",
        "def CE_loss(predictions,labels):\n",
        "    \"\"\" Cross entropy loss\n",
        "    Args:\n",
        "        predictions (torch.tensor): tensor of shape of (B,C)\n",
        "        labels (torch.tensor): tensor of shape of (B,1)\n",
        "    Returns:\n",
        "        torch.tensor: a tensor of shape of (1,)\n",
        "    \"\"\"\n",
        "    loss=-torch.sum(torch.mul(labels, (torch.log(predictions))))\n",
        "    return loss/float(predictions.shape[0])"
      ]
    },
    {
      "cell_type": "markdown",
      "metadata": {
        "id": "_tJxocVAKAiV"
      },
      "source": [
        "### 1.3 Network (2.5 + 7.5 pts)\n",
        "Complete the code for the simple feed-forward network shown below. \n",
        "\n",
        "Network parameters will be stored in a dictionary called `params`. weights and biases keys appear in the format `W#` and `b#` where `#` indicates the layer number. For example, the weights and biases of the first layer are `W1` and `b1`. Weights and biases are initialized inside `init_weights` function.\n",
        "\n",
        "**Notes:** \n",
        "1. Set `requires_grad=True` when initializing weights and biases to have [pytorch automatic differentiation engine](https://pytorch.org/docs/stable/autograd.html) calculate the gradients.\n",
        "2. Assign network parameters and inputs on the same `device`.\n",
        "3. Initialize weights and biases with samples from normal distribution with mean 0 and variance 1."
      ]
    },
    {
      "cell_type": "code",
      "execution_count": 7,
      "metadata": {
        "id": "u_BV_J1NKAiW"
      },
      "outputs": [],
      "source": [
        "class my_nn(nn.Module):\n",
        "    def __init__(self,layers_dim,layers_activation=None,device='cpu'):\n",
        "        \"\"\" Initialize network\n",
        "        Args:\n",
        "            layers_dims (List of ints): list of Size of each layer of the network\n",
        "                                        [inputs,layer1,...,outputs]\n",
        "            layers_activation (List of strings): list of activation function for each hidden layer\n",
        "                                        of the network[layer1,...,outputs]\n",
        "            device (str): a device that will be used for computation\n",
        "                Default: 'cpu'\n",
        "            \n",
        "        \"\"\"\n",
        "        super(my_nn, self).__init__()\n",
        "        self.layers_activation = [get_activation(x) for x in layers_activation]\n",
        "        self.params = {}\n",
        "        self.num_layers = len(layers_dim)-1\n",
        "        self.layers_dim = layers_dim\n",
        "        self.device = device\n",
        "        self.init_weights()\n",
        "        \n",
        "\n",
        "    def init_weights(self):\n",
        "        \"\"\" Initialize weights and biases of network based on layers dimension.\n",
        "            Store weights and biases in self.params.\n",
        "            weights and biases key should be of format \"W#\" and \"b#\" where # is the layer number.\n",
        "            Example: for layer 1, weight and bias key is \"W1\" and \"b1\"\n",
        "        Args:\n",
        "            None\n",
        "        \n",
        "        Returns:\n",
        "            None\n",
        "        \"\"\"\n",
        "        for i in range(1, self.num_layers+1):\n",
        "            self.params[\"W\"+str(i)] = torch.tensor(np.random.randn(self.layers_dim[i-1], self.layers_dim[i])*0.01, device=self.device, requires_grad = True, dtype=torch.float)\n",
        "            self.params[\"b\"+str(i)] = torch.tensor(np.zeros((self.layers_dim[i], 1)), device=self.device, requires_grad = True, dtype=torch.float)\n",
        "        pass\n",
        "\n",
        "    def forward(self,x):\n",
        "        \"\"\" Perform forward pass\n",
        "        Args:\n",
        "            x (torch.tensor): tensor of shape of (B, C, H, W)\n",
        "        \n",
        "        Return:\n",
        "            torch.tensor: tensor of shape of (B, N_classes)\n",
        "        \"\"\"\n",
        "        current_tensor = torch.flatten(x, start_dim=1).to(torch.device(self.device))\n",
        "        for l in range (1, self.num_layers+1):\n",
        "            apply_weights = torch.matmul(current_tensor, self.params[\"W\"+str(l)])\n",
        "            current_tensor = torch.add(apply_weights, self.params[\"b\"+str(l)].T.expand_as(apply_weights))\n",
        "            if l == self.num_layers:\n",
        "              current_tensor = Softmax(current_tensor, 0)\n",
        "            else:\n",
        "              current_tensor = self.layers_activation[l - 1](current_tensor)\n",
        "        return current_tensor"
      ]
    },
    {
      "cell_type": "markdown",
      "metadata": {
        "id": "dzH7h-aDKAiY"
      },
      "source": [
        "### 1.4 Training the network (12+12+6 pts)\n",
        "Complete and run the following cells to train the network. You can use the predefined network hyper parameters or try your own."
      ]
    },
    {
      "cell_type": "code",
      "execution_count": 8,
      "metadata": {
        "id": "0XCEZfcKKAia"
      },
      "outputs": [],
      "source": [
        "def Train(model,optimizer,dataloader,device):\n",
        "    \"\"\" performs training on train set\n",
        "    Args:\n",
        "        model (my_nn instance): model to be trained\n",
        "        optimizer (torch.optim instance)\n",
        "        dataloader (torch.utils.data.DataLoader instance): dataloader for train set\n",
        "        device (str): computation device ['cpu','cuda',...]\n",
        "    Returns:\n",
        "        list of floats: mini_batch loss sampled every 20 steps for visualization purposes\n",
        "        list of floats: mini_batch accuracy sampled every 20 steps for visualization purposes\n",
        "    \"\"\"\n",
        "    loss_tracker = []\n",
        "    accuracy_tracker = []\n",
        "    for i,(data,label) in enumerate(dataloader):\n",
        "        ### Set gradients to zero\n",
        "        optimizer.zero_grad()\n",
        "        ### Pass data to the model\n",
        "        predictions = model.forward(data).to(torch.device(device))\n",
        "        ### Calculate the loss of predicted labels vs ground truth labels\n",
        "        one_hot = nn.functional.one_hot(label, num_classes = 10).to(torch.device(device))\n",
        "        loss = CE_loss(predictions, one_hot)\n",
        "        ### Calculate gradients and update weights and biases\n",
        "        loss.backward()\n",
        "        nn.utils.clip_grad_norm_(model.params.values(), max_norm=2.0, norm_type=2)\n",
        "        optimizer.step()\n",
        "        if i % 20 == 0:\n",
        "            with torch.no_grad():\n",
        "                loss_tracker.append(loss.item())\n",
        "                ### calculate accuracy of mini_batch\n",
        "                accuracy = np.sum([1 if np.argmax(prediction.cpu()) == l else 0 for (prediction, l) in zip(predictions, label)])\n",
        "                accuracy_tracker.append(accuracy/data.size(0))\n",
        "            \n",
        "    return loss_tracker, accuracy_tracker\n",
        "\n",
        "def Test(model,dataloader,device):\n",
        "    \"\"\" performs training on train set\n",
        "    Args:\n",
        "        model (my_nn instance): model to be trained\n",
        "        dataloader (torch.utils.data.DataLoader instance)\n",
        "        device (str): computation device ['cpu','cuda',...]\n",
        "    Returns:\n",
        "        floats: test set loss for visualization purposes\n",
        "        floats: test set accuracy for visualization purposes\n",
        "    \"\"\"\n",
        "    loss_tracker = []\n",
        "    accuracy_tracker = []\n",
        "    for i,(data,label) in enumerate(dataloader):        \n",
        "        with torch.no_grad():\n",
        "            ### Pass data to the model\n",
        "            predictions = model.forward(data).to(torch.device(device))\n",
        "            ### Calculate the loss of predicted labels vs ground truth labels\n",
        "            one_hot = nn.functional.one_hot(label, num_classes = 10).to(torch.device(device))\n",
        "            loss = CE_loss(predictions, one_hot)\n",
        "            loss_tracker.append(loss.item())\n",
        "            ### calculate accuracy of mini_batch\n",
        "            accuracy = np.sum([1 if np.argmax(prediction.cpu()) == l else 0 for (prediction, l) in zip(predictions, label)])\n",
        "            accuracy_tracker.append(accuracy/data.size(0))    \n",
        "        \n",
        "    return sum(loss_tracker)/len(loss_tracker), sum(accuracy_tracker)/len(accuracy_tracker)\n",
        "        "
      ]
    },
    {
      "cell_type": "code",
      "execution_count": 9,
      "metadata": {
        "id": "MRgQgscVKAib",
        "scrolled": true,
        "colab": {
          "base_uri": "https://localhost:8080/"
        },
        "outputId": "7c44473d-a57c-40a4-a54c-5aca89f153f8"
      },
      "outputs": [
        {
          "output_type": "stream",
          "name": "stdout",
          "text": [
            "Epoch: 0\n",
            "\t training loss/accuracy: 1.56/0.76\n",
            "\t testing loss/accuracy: 1.71/0.70\n",
            "Epoch: 1\n",
            "\t training loss/accuracy: 1.30/0.84\n",
            "\t testing loss/accuracy: 1.55/0.76\n",
            "Epoch: 2\n",
            "\t training loss/accuracy: 1.22/0.87\n",
            "\t testing loss/accuracy: 1.47/0.78\n",
            "Epoch: 3\n",
            "\t training loss/accuracy: 1.20/0.87\n",
            "\t testing loss/accuracy: 1.39/0.81\n",
            "Epoch: 4\n",
            "\t training loss/accuracy: 1.11/0.90\n",
            "\t testing loss/accuracy: 1.36/0.82\n",
            "Epoch: 5\n",
            "\t training loss/accuracy: 1.11/0.90\n",
            "\t testing loss/accuracy: 1.34/0.83\n",
            "Epoch: 6\n",
            "\t training loss/accuracy: 1.07/0.91\n",
            "\t testing loss/accuracy: 1.30/0.85\n",
            "Epoch: 7\n",
            "\t training loss/accuracy: 1.05/0.93\n",
            "\t testing loss/accuracy: 1.28/0.85\n",
            "Epoch: 8\n",
            "\t training loss/accuracy: 1.03/0.93\n",
            "\t testing loss/accuracy: 1.28/0.86\n",
            "Epoch: 9\n",
            "\t training loss/accuracy: 1.01/0.93\n",
            "\t testing loss/accuracy: 1.26/0.87\n"
          ]
        }
      ],
      "source": [
        "# Training hyper parameters\n",
        "epochs = 10\n",
        "learning_rate = 0.0002\n",
        "layers_dim = [28*28,1024,512,10]\n",
        "\n",
        "### Set target device for computations\n",
        "device = torch.device(\"cuda:0\" if torch.cuda.is_available() else \"cpu\")\n",
        "\n",
        "\n",
        "### Initialize model using layers_dim\n",
        "model = my_nn(layers_dim, [\"sig\",\"rel\", \"sig\"], device)\n",
        "### Initialize Adam optimizer\n",
        "optimizer = torch.optim.Adam(params = model.params.values(), lr=learning_rate)\n",
        "\n",
        "train_loss_tracker = []\n",
        "train_accuracy_tracker = []\n",
        "\n",
        "test_loss_tracker = []\n",
        "test_accuracy_tracker = []\n",
        "\n",
        "for epoch in range(epochs):\n",
        "    print(f'Epoch: {epoch}')\n",
        "    train_loss,train_accuracy = Train(model,optimizer,kmnist_train_loader,device)\n",
        "    test_loss , test_accuracy = Test(model,kmnist_test_loader,device)\n",
        "    train_loss_tracker.extend(train_loss)\n",
        "    train_accuracy_tracker.extend(train_accuracy)\n",
        "    test_loss_tracker.append(test_loss)\n",
        "    test_accuracy_tracker.append(test_accuracy)\n",
        "    print('\\t training loss/accuracy: {0:.2f}/{1:.2f}'.format(sum(train_loss)/len(train_loss), sum(train_accuracy)/len((train_accuracy))))\n",
        "    print('\\t testing loss/accuracy: {0:.2f}/{1:.2f}'.format(test_loss, test_accuracy))"
      ]
    },
    {
      "cell_type": "code",
      "execution_count": 10,
      "metadata": {
        "id": "Ac_LFfwJKAib",
        "scrolled": true,
        "colab": {
          "base_uri": "https://localhost:8080/",
          "height": 716
        },
        "outputId": "27c2b467-95a0-4103-f57b-e7818382e715"
      },
      "outputs": [
        {
          "output_type": "display_data",
          "data": {
            "text/plain": [
              "<Figure size 864x864 with 4 Axes>"
            ],
            "image/png": "[encoded data removed]"
          },
          "metadata": {
            "needs_background": "light"
          }
        }
      ],
      "source": [
        "fig, axs = plt.subplots(2, 2,figsize=(12,12))\n",
        "### visualize train_loss and train_accuracy\n",
        "axs[0, 0].plot(train_loss_tracker)\n",
        "axs[0, 0].set_title('Train loss')\n",
        "axs[0, 1].plot(train_accuracy_tracker, 'tab:orange')\n",
        "axs[0, 1].set_title('Train accuracy')\n",
        "### visualize test_loss and test_accuracy\n",
        "axs[1, 0].plot(test_loss_tracker, 'tab:green')\n",
        "axs[1, 0].set_title('Test loss')\n",
        "axs[1, 1].plot(test_accuracy_tracker, 'tab:red')\n",
        "axs[1, 1].set_title('Test accuracy')\n",
        "plt.show()"
      ]
    }
  ],
  "metadata": {
    "accelerator": "GPU",
    "colab": {
      "collapsed_sections": [],
      "name": "project.ipynb",
      "provenance": [],
      "include_colab_link": true
    },
    "kernelspec": {
      "display_name": "Python 3 (ipykernel)",
      "language": "python",
      "name": "python3"
    },
    "language_info": {
      "codemirror_mode": {
        "name": "ipython",
        "version": 3
      },
      "file_extension": ".py",
      "mimetype": "text/x-python",
      "name": "python",
      "nbconvert_exporter": "python",
      "pygments_lexer": "ipython3",
      "version": "3.7.11"
    }
  },
  "nbformat": 4,
  "nbformat_minor": 0
}